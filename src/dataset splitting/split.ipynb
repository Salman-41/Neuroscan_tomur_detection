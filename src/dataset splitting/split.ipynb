{
 "cells": [
  {
   "cell_type": "code",
   "execution_count": 5,
   "metadata": {},
   "outputs": [
    {
     "name": "stdout",
     "output_type": "stream",
     "text": [
      "Class balance in the dataset:\n",
      "Class 0: 6072 instances\n",
      "Class 1: 9651 instances\n",
      "Class 2: 5802 instances\n"
     ]
    }
   ],
   "source": [
    "import os\n",
    "from collections import Counter\n",
    "\n",
    "# Define the path to the labels folder\n",
    "labels_dir = './Brain_Tumor_Detection_v1/labels'\n",
    "\n",
    "# Initialize a Counter to track the class occurrences\n",
    "class_counts = Counter()\n",
    "\n",
    "# Loop through each label file in the directory\n",
    "for label_file in os.listdir(labels_dir):\n",
    "    # Construct the full path to the label file\n",
    "    label_path = os.path.join(labels_dir, label_file)\n",
    "    \n",
    "    # Open the label file and count the classes\n",
    "    with open(label_path, 'r') as file:\n",
    "        for line in file:\n",
    "            # The first number in each line represents the class\n",
    "            class_id = int(line.split()[0])\n",
    "            class_counts[class_id] += 1\n",
    "\n",
    "# Display the class balance\n",
    "print(\"Class balance in the dataset:\")\n",
    "for class_id, count in sorted(class_counts.items()):\n",
    "    print(f\"Class {class_id}: {count} instances\")\n"
   ]
  },
  {
   "cell_type": "code",
   "execution_count": 16,
   "metadata": {},
   "outputs": [
    {
     "name": "stdout",
     "output_type": "stream",
     "text": [
      "Data successfully split into train, validation, and test sets.\n"
     ]
    }
   ],
   "source": [
    "import os\n",
    "import shutil\n",
    "import random\n",
    "from pathlib import Path\n",
    "\n",
    "# Paths\n",
    "base_dir = './Brain_Tumor_Detection_v1'\n",
    "images_dir = os.path.join(base_dir, 'images')\n",
    "labels_dir = os.path.join(base_dir, 'labels')\n",
    "\n",
    "# Output directories for split data\n",
    "split_dirs = {\n",
    "    'train_images': os.path.join(base_dir, 'train/images'),\n",
    "    'train_labels': os.path.join(base_dir, 'train/labels'),\n",
    "    'val_images': os.path.join(base_dir, 'valid/images'),\n",
    "    'val_labels': os.path.join(base_dir, 'valid/labels'),\n",
    "    'test_images': os.path.join(base_dir, 'test/images'),\n",
    "    'test_labels': os.path.join(base_dir, 'test/labels')\n",
    "}\n",
    "\n",
    "# Create split directories if they don't exist\n",
    "for dir_path in split_dirs.values():\n",
    "    os.makedirs(dir_path, exist_ok=True)\n",
    "\n",
    "# Get all image paths\n",
    "image_paths = list(Path(images_dir).glob(\"*.jpg\"))\n",
    "label_paths = [Path(labels_dir) / (img_path.stem + '.txt') for img_path in image_paths]\n",
    "\n",
    "# Combine image and label paths into a list of tuples\n",
    "image_label_pairs = list(zip(image_paths, label_paths))\n",
    "\n",
    "# Shuffle the image-label pairs to randomize the split\n",
    "random.shuffle(image_label_pairs)\n",
    "\n",
    "# Calculate the split counts\n",
    "total_images = len(image_label_pairs)\n",
    "train_count = int(total_images * 0.8)\n",
    "val_count = int(total_images * 0.1)\n",
    "test_count = total_images - train_count - val_count\n",
    "\n",
    "# Split the data\n",
    "for idx, (image_path, label_path) in enumerate(image_label_pairs):\n",
    "    if idx < train_count:\n",
    "        split = 'train'\n",
    "    elif idx < train_count + val_count:\n",
    "        split = 'val'\n",
    "    else:\n",
    "        split = 'test'\n",
    "\n",
    "    # Copy the images to the appropriate split directory\n",
    "    shutil.copy(image_path, split_dirs[f'{split}_images'])\n",
    "\n",
    "    # Check if the corresponding label file exists before copying\n",
    "    if label_path.exists():\n",
    "        shutil.copy(label_path, split_dirs[f'{split}_labels'])\n",
    "    else:\n",
    "        print(f\"Warning: Label file for {image_path.name} not found.\")\n",
    "\n",
    "print(\"Data successfully split into train, validation, and test sets.\")\n"
   ]
  }
 ],
 "metadata": {
  "kernelspec": {
   "display_name": "Python 3",
   "language": "python",
   "name": "python3"
  },
  "language_info": {
   "codemirror_mode": {
    "name": "ipython",
    "version": 3
   },
   "file_extension": ".py",
   "mimetype": "text/x-python",
   "name": "python",
   "nbconvert_exporter": "python",
   "pygments_lexer": "ipython3",
   "version": "3.10.6"
  }
 },
 "nbformat": 4,
 "nbformat_minor": 2
}
